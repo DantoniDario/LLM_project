{
 "cells": [
  {
   "cell_type": "code",
   "execution_count": 12,
   "id": "ae895823-0f42-46a4-bfda-be4b6a0239eb",
   "metadata": {},
   "outputs": [],
   "source": [
    "import os\n",
    "import json\n",
    "from dotenv import load_dotenv\n",
    "from openai import OpenAI\n",
    "import gradio as gr\n",
    "import anthropic\n",
    "\n",
    "import sounddevice as sd\n",
    "import soundfile as sf\n",
    "import numpy as np\n",
    "import openai\n",
    "import io\n",
    "import scipy.io.wavfile"
   ]
  },
  {
   "cell_type": "code",
   "execution_count": 13,
   "id": "d3c18ca7-6967-4d3c-a4d0-6bb536fc0cb9",
   "metadata": {},
   "outputs": [
    {
     "name": "stdout",
     "output_type": "stream",
     "text": [
      "OpenAI API Key exists and begins sk-proj-\n",
      "Anthropic API Key exists and begins sk-ant-\n"
     ]
    }
   ],
   "source": [
    "# Initialization\n",
    "\n",
    "load_dotenv(override=True)\n",
    "\n",
    "openai_api_key = os.getenv('OPENAI_API_KEY')\n",
    "anthropic_api_key = os.getenv('ANTHROPIC_API_KEY')\n",
    "\n",
    "if openai_api_key:\n",
    "    print(f\"OpenAI API Key exists and begins {openai_api_key[:8]}\")\n",
    "else:\n",
    "    print(\"OpenAI API Key not set\")\n",
    "\n",
    "if anthropic_api_key:\n",
    "    print(f\"Anthropic API Key exists and begins {anthropic_api_key[:7]}\")\n",
    "else:\n",
    "    print(\"Anthropic API Key not set\")\n",
    "    \n",
    "MODEL = \"gpt-4o-mini\"\n",
    "openai = OpenAI()\n",
    "\n",
    "MODEL_CLAUDE = \"claude-3-7-sonnet-latest\"\n",
    "claude = anthropic.Anthropic()"
   ]
  },
  {
   "cell_type": "code",
   "execution_count": 14,
   "id": "e505c1a0-9606-4a1a-96e6-1cd01065714c",
   "metadata": {},
   "outputs": [],
   "source": [
    "system_message = \"You are a helpful assistant for an Airline called FlightAI. \"\n",
    "system_message += \"Give short, courteous answers, no more than 1 sentence. \"\n",
    "system_message += \"Always be accurate. If you don't know the answer, say so.\"\n",
    "system_message += \"And never invoke more than one tool at the time. Don't hesitate to ask to the user to precise if it need to know the price of the flight or the room availability information.\"\n",
    "\n",
    "system_message_claude = \"You act as a translator. You will translate the sentence in japanese.\""
   ]
  },
  {
   "cell_type": "code",
   "execution_count": 15,
   "id": "e7ec3f59-00af-4942-acf4-3ee0c489b82c",
   "metadata": {},
   "outputs": [],
   "source": [
    "# Let's start by making a useful function\n",
    "\n",
    "ticket_prices = {\"london\": \"$799\", \"paris\": \"$899\", \"tokyo\": \"$1400\", \"berlin\": \"$499\"}\n",
    "\n",
    "def get_ticket_price(destination_city):\n",
    "    city = destination_city.lower()\n",
    "    return ticket_prices.get(city, \"Unknown\")\n",
    "\n",
    "# Bonus\n",
    "Available_room = {\"london\": \"2\", \"paris\": \"4\", \"tokyo\": \"0\", \"berlin\": \"1\"}\n",
    "\n",
    "def fake_booking(destination_city):\n",
    "    city = destination_city.lower()\n",
    "    return Available_room.get(city, \"Unknown\")"
   ]
  },
  {
   "cell_type": "code",
   "execution_count": 16,
   "id": "840c25ab-b332-4da3-8231-f60cabe19870",
   "metadata": {},
   "outputs": [],
   "source": [
    "# There's a particular dictionary structure that's required to describe our function:\n",
    "\n",
    "price_function = {\n",
    "    \"name\": \"get_ticket_price\",\n",
    "    \"description\": \"Get the price of a return ticket to the destination city. Call this whenever you need to know the ticket price, for example when a customer asks 'How much is a ticket to this city'\",\n",
    "    \"parameters\": {\n",
    "        \"type\": \"object\",\n",
    "        \"properties\": {\n",
    "            \"destination_city\": {\n",
    "                \"type\": \"string\",\n",
    "                \"description\": \"The city that the customer wants to travel to\",\n",
    "            },\n",
    "        },\n",
    "        \"required\": [\"destination_city\"],\n",
    "        \"additionalProperties\": False\n",
    "    }\n",
    "}\n",
    "\n",
    "booking_function = {\n",
    "    \"name\": \"fake_booking\",\n",
    "    \"description\": \"Get the number of available room for one night booking. Call this whenever you need to know if there are available rooms in the city, for example when a customer asks 'Is there any available room in this city?'\",\n",
    "    \"parameters\": {\n",
    "        \"type\": \"object\",\n",
    "        \"properties\": {\n",
    "            \"destination_city\": {\n",
    "                \"type\": \"string\",\n",
    "                \"description\": \"The city that the customer wants to travel to\",\n",
    "            },\n",
    "        },\n",
    "        \"required\": [\"destination_city\"],\n",
    "        \"additionalProperties\": False\n",
    "    }\n",
    "}"
   ]
  },
  {
   "cell_type": "code",
   "execution_count": 17,
   "id": "06cb489d-c14a-47a4-8989-56857fbb9213",
   "metadata": {},
   "outputs": [],
   "source": [
    "tools = [{\"type\": \"function\", \"function\": price_function},{\"type\": \"function\", \"function\": booking_function}]"
   ]
  },
  {
   "cell_type": "code",
   "execution_count": 18,
   "id": "13338051-60fb-445a-a291-0de6a5dd92d6",
   "metadata": {},
   "outputs": [],
   "source": [
    "def french_translator(user_prompt):\n",
    "    message = claude.messages.create(\n",
    "    model=MODEL_CLAUDE,\n",
    "    max_tokens=200,\n",
    "    temperature=0.7,\n",
    "    system=system_message_claude,\n",
    "    messages=[\n",
    "        {\"role\": \"user\", \"content\": user_prompt},\n",
    "        ],\n",
    "    )\n",
    "    return message.content[0].text"
   ]
  },
  {
   "cell_type": "code",
   "execution_count": 19,
   "id": "4e479f31-2ec9-45f4-af57-8e8a93deb2df",
   "metadata": {},
   "outputs": [],
   "source": [
    "def handle_tool_call(message):\n",
    "    tool_call = message.tool_calls[0]\n",
    "    function_name = tool_call.function.name\n",
    "    arguments = json.loads(tool_call.function.arguments)\n",
    "    city = arguments.get(\"destination_city\")\n",
    "    if function_name == 'fake_booking':\n",
    "        room = fake_booking(city)\n",
    "        response = {\n",
    "            \"role\": \"tool\",\n",
    "            \"content\": json.dumps({\"destination_city\": city,\"available_room\": room}),\n",
    "            \"tool_call_id\": tool_call.id\n",
    "        }\n",
    "    else:\n",
    "        price = get_ticket_price(city)\n",
    "        response = {\n",
    "            \"role\": \"tool\",\n",
    "            \"content\": json.dumps({\"destination_city\": city,\"price\": price}),\n",
    "            \"tool_call_id\": tool_call.id\n",
    "        }\n",
    "    return response, city"
   ]
  },
  {
   "cell_type": "code",
   "execution_count": 20,
   "id": "a7c2fd49-f624-4047-b37b-9296f438b72c",
   "metadata": {},
   "outputs": [],
   "source": [
    "def chat(message, history=None):\n",
    "    if history is None:\n",
    "        history = []\n",
    "\n",
    "    messages = [{\"role\": \"system\", \"content\": system_message}] + history + [{\"role\": \"user\", \"content\": message}]\n",
    "    response = openai.chat.completions.create(model=MODEL, messages=messages, tools=tools)\n",
    "\n",
    "    if response.choices[0].finish_reason == \"tool_calls\":\n",
    "        tool_call_message = response.choices[0].message\n",
    "        tool_response, city = handle_tool_call(tool_call_message)\n",
    "        messages.append(tool_call_message)\n",
    "        messages.append(tool_response)\n",
    "        response = openai.chat.completions.create(model=MODEL, messages=messages)\n",
    "\n",
    "    assistant_reply = response.choices[0].message.content\n",
    "    translated_text = french_translator(assistant_reply)\n",
    "\n",
    "    # Append assistant reply to the history\n",
    "    history.append({\"role\": \"user\", \"content\": message})\n",
    "    history.append({\"role\": \"assistant\", \"content\": assistant_reply})\n",
    "\n",
    "    return history, translated_text"
   ]
  },
  {
   "cell_type": "code",
   "execution_count": 21,
   "id": "662f4a84-9050-4cd3-aa3c-811fc13583b4",
   "metadata": {},
   "outputs": [],
   "source": [
    "client = OpenAI()"
   ]
  },
  {
   "cell_type": "code",
   "execution_count": 22,
   "id": "042e0c75-c6f0-4738-a340-f07d7a35e5cf",
   "metadata": {},
   "outputs": [],
   "source": [
    "def record_audio(duration=5, sample_rate=44100):\n",
    "    print(\"🎙️ Speak now...\")\n",
    "    audio = sd.rec(int(duration * sample_rate), samplerate=sample_rate, channels=1)\n",
    "    sd.wait()\n",
    "    print(\"✅ Recording complete.\")\n",
    "\n",
    "    wav_io = io.BytesIO()\n",
    "    sf.write(wav_io, audio, sample_rate, format='WAV')\n",
    "    wav_io.seek(0)\n",
    "    return wav_io\n",
    "\n",
    "def transcribe_audio(audio_io):\n",
    "    audio_io.name = \"input.wav\"  # 👈 this is crucial\n",
    "    response = client.audio.transcriptions.create(\n",
    "        model=\"whisper-1\",\n",
    "        file=audio_io\n",
    "    )\n",
    "    return response.text"
   ]
  },
  {
   "cell_type": "code",
   "execution_count": 60,
   "id": "dd87afeb-7fc8-4dcf-a8a2-f6289cec58ff",
   "metadata": {
    "collapsed": true,
    "jupyter": {
     "outputs_hidden": true,
     "source_hidden": true
    }
   },
   "outputs": [
    {
     "name": "stdout",
     "output_type": "stream",
     "text": [
      "🎙️ Speak now...\n",
      "✅ Recording complete.\n"
     ]
    }
   ],
   "source": [
    "# Combine both steps\n",
    "audio_io = record_audio(duration=5)"
   ]
  },
  {
   "cell_type": "code",
   "execution_count": 61,
   "id": "683d2ab5-d044-4c0e-b651-a74358f6acf9",
   "metadata": {
    "collapsed": true,
    "jupyter": {
     "outputs_hidden": true,
     "source_hidden": true
    }
   },
   "outputs": [
    {
     "name": "stdout",
     "output_type": "stream",
     "text": [
      "📝 Transcribed text: I live in Switzerland and I speak French.\n"
     ]
    }
   ],
   "source": [
    "transcription = transcribe_audio(audio_io)\n",
    "print(\"📝 Transcribed text:\", transcription)"
   ]
  },
  {
   "cell_type": "code",
   "execution_count": 23,
   "id": "1fb5af6e-5d9a-44bb-964f-e5a70b8e8e15",
   "metadata": {},
   "outputs": [
    {
     "name": "stdout",
     "output_type": "stream",
     "text": [
      "* Running on local URL:  http://127.0.0.1:7861\n",
      "* To create a public link, set `share=True` in `launch()`.\n"
     ]
    },
    {
     "data": {
      "text/html": [
       "<div><iframe src=\"http://127.0.0.1:7861/\" width=\"100%\" height=\"500\" allow=\"autoplay; camera; microphone; clipboard-read; clipboard-write;\" frameborder=\"0\" allowfullscreen></iframe></div>"
      ],
      "text/plain": [
       "<IPython.core.display.HTML object>"
      ]
     },
     "metadata": {},
     "output_type": "display_data"
    },
    {
     "data": {
      "text/plain": []
     },
     "execution_count": 23,
     "metadata": {},
     "output_type": "execute_result"
    }
   ],
   "source": [
    "with gr.Blocks() as ui:\n",
    "    with gr.Row():\n",
    "        chatbot = gr.Chatbot(height=500, type=\"messages\")\n",
    "        translated_output = gr.Textbox(label=\"Assistant (japanese)\", lines=10)\n",
    "\n",
    "    with gr.Row():\n",
    "        mic = gr.Audio(label=\"🎤 Speak your question\", type=\"filepath\")\n",
    "\n",
    "    with gr.Row():\n",
    "        clear = gr.Button(\"Clear\")\n",
    "\n",
    "    # 🧠 Handle flow: audio → transcription → chat\n",
    "    def process_audio(audio_file_path, history):\n",
    "        if audio_file_path is None:\n",
    "            # No audio provided yet, just return current history\n",
    "            return history, \"\"\n",
    "    \n",
    "        with open(audio_file_path, \"rb\") as f:\n",
    "            audio_bytes = io.BytesIO(f.read())\n",
    "            audio_bytes.name = \"input.wav\"\n",
    "            text = transcribe_audio(audio_bytes)\n",
    "    \n",
    "        return chat(text, history)\n",
    "\n",
    "    mic.change(\n",
    "        fn=process_audio,\n",
    "        inputs=[mic, chatbot],\n",
    "        outputs=[chatbot, translated_output]\n",
    "    )\n",
    "\n",
    "    clear.click(lambda: None, inputs=None, outputs=chatbot, queue=False)\n",
    "\n",
    "ui.launch(inbrowser=True)"
   ]
  },
  {
   "cell_type": "code",
   "execution_count": null,
   "id": "f56318ec-e8e3-4c7e-ae0b-6d1c6df1e87a",
   "metadata": {},
   "outputs": [],
   "source": []
  }
 ],
 "metadata": {
  "kernelspec": {
   "display_name": "Python 3 (ipykernel)",
   "language": "python",
   "name": "python3"
  },
  "language_info": {
   "codemirror_mode": {
    "name": "ipython",
    "version": 3
   },
   "file_extension": ".py",
   "mimetype": "text/x-python",
   "name": "python",
   "nbconvert_exporter": "python",
   "pygments_lexer": "ipython3",
   "version": "3.11.13"
  }
 },
 "nbformat": 4,
 "nbformat_minor": 5
}
