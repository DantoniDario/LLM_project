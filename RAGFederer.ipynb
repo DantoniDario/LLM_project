{
 "cells": [
  {
   "cell_type": "code",
   "execution_count": 1,
   "id": "57b6a631-e403-4a43-8284-ff8fc90975cc",
   "metadata": {},
   "outputs": [],
   "source": [
    "# imports\n",
    "\n",
    "import os\n",
    "import glob\n",
    "from dotenv import load_dotenv\n",
    "import gradio as gr"
   ]
  },
  {
   "cell_type": "code",
   "execution_count": 2,
   "id": "3968200c-54c5-493b-9916-b82605612a9f",
   "metadata": {},
   "outputs": [],
   "source": [
    "# imports for langchain, plotly and Chroma\n",
    "\n",
    "from langchain.document_loaders import DirectoryLoader, TextLoader\n",
    "from langchain.text_splitter import CharacterTextSplitter\n",
    "from langchain.schema import Document\n",
    "from langchain_openai import OpenAIEmbeddings, ChatOpenAI\n",
    "from langchain_chroma import Chroma\n",
    "import matplotlib.pyplot as plt\n",
    "from sklearn.manifold import TSNE\n",
    "import numpy as np\n",
    "import plotly.graph_objects as go\n",
    "from langchain.memory import ConversationBufferMemory\n",
    "from langchain.chains import ConversationalRetrievalChain\n",
    "from langchain.embeddings import HuggingFaceEmbeddings"
   ]
  },
  {
   "cell_type": "code",
   "execution_count": 8,
   "id": "e03e5e7e-22e4-4d3b-8294-50199a65f866",
   "metadata": {},
   "outputs": [],
   "source": [
    "# price is a factor for our company, so we're going to use a low cost model\n",
    "\n",
    "MODEL = \"gpt-4o-mini\"\n",
    "db_name = \"vector_db\""
   ]
  },
  {
   "cell_type": "code",
   "execution_count": 4,
   "id": "3c969ae6-4ca8-4eb8-934e-5c599bf6cdf0",
   "metadata": {},
   "outputs": [],
   "source": [
    "# Load environment variables in a file called .env\n",
    "\n",
    "load_dotenv(override=True)\n",
    "os.environ['OPENAI_API_KEY'] = os.getenv('OPENAI_API_KEY', 'your-key-if-not-using-env')"
   ]
  },
  {
   "cell_type": "code",
   "execution_count": 5,
   "id": "9cebd381-f35d-459b-9591-5c03a63b975a",
   "metadata": {},
   "outputs": [
    {
     "name": "stdout",
     "output_type": "stream",
     "text": [
      "Total number of chunks: 12\n"
     ]
    }
   ],
   "source": [
    "md_file = \"CC_extracted.md\"\n",
    "\n",
    "# Load the document\n",
    "loader = TextLoader(md_file, encoding='utf-8')\n",
    "documents = loader.load()\n",
    "\n",
    "# Split into chunks\n",
    "text_splitter = CharacterTextSplitter(chunk_size=1000, chunk_overlap=200)\n",
    "chunks = text_splitter.split_documents(documents)\n",
    "\n",
    "print(f\"Total number of chunks: {len(chunks)}\")"
   ]
  },
  {
   "cell_type": "code",
   "execution_count": 9,
   "id": "c3a57bb8-374d-4fae-b94a-fdc5ddfa5e58",
   "metadata": {},
   "outputs": [
    {
     "name": "stdout",
     "output_type": "stream",
     "text": [
      "Vectorstore created with 12 documents\n"
     ]
    }
   ],
   "source": [
    "# Put the chunks of data into a Vector Store that associates a Vector Embedding with each chunk\n",
    "# Chroma is a popular open source Vector Database based on SQLLite\n",
    "\n",
    "embeddings = OpenAIEmbeddings()\n",
    "\n",
    "# If you would rather use the free Vector Embeddings from HuggingFace sentence-transformers\n",
    "# Then replace embeddings = OpenAIEmbeddings()\n",
    "# with:\n",
    "# from langchain.embeddings import HuggingFaceEmbeddings\n",
    "# embeddings = HuggingFaceEmbeddings(model_name=\"sentence-transformers/all-MiniLM-L6-v2\")\n",
    "\n",
    "# Delete if already exists\n",
    "\n",
    "if os.path.exists(db_name):\n",
    "    Chroma(persist_directory=db_name, embedding_function=embeddings).delete_collection()\n",
    "\n",
    "# Create vectorstore\n",
    "\n",
    "vectorstore = Chroma.from_documents(documents=chunks, embedding=embeddings, persist_directory=db_name)\n",
    "print(f\"Vectorstore created with {vectorstore._collection.count()} documents\")"
   ]
  },
  {
   "cell_type": "code",
   "execution_count": 10,
   "id": "ffb20a35-7de8-44c5-a57a-267534f44699",
   "metadata": {},
   "outputs": [
    {
     "name": "stdout",
     "output_type": "stream",
     "text": [
      "\n",
      "\n",
      "\u001b[1m> Entering new ConversationalRetrievalChain chain...\u001b[0m\n",
      "\n",
      "\n",
      "\u001b[1m> Entering new StuffDocumentsChain chain...\u001b[0m\n",
      "\n",
      "\n",
      "\u001b[1m> Entering new LLMChain chain...\u001b[0m\n",
      "Prompt after formatting:\n",
      "\u001b[32;1m\u001b[1;3mSystem: Use the following pieces of context to answer the user's question. \n",
      "If you don't know the answer, just say that you don't know, don't try to make up an answer.\n",
      "----------------\n",
      "In **2009**, Federer finally achieved the career Grand Slam by winning the French Open, defeating Robin Soderling in the final. The victory was especially sweet, as Nadal—Federer’s nemesis on clay—had been upset earlier in the tournament. Later that year, Federer also reclaimed Wimbledon, surpassing Pete Sampras’ record of 14 Grand Slam titles.  \n",
      "\n",
      "But setbacks followed. Federer’s ranking dipped, and critics speculated about his decline. Djokovic, in particular, began to dominate in the early 2010s. Federer endured heartbreaks, including losses in several Slam semifinals and finals. Yet his resilience and love for the game kept him going.\n",
      "\n",
      "---\n",
      "\n",
      "## The Rise of a Champion  \n",
      "\n",
      "In **2003**, Federer achieved his first Grand Slam title at **Wimbledon**, defeating Mark Philippoussis in the final. His victory was decisive, and it marked the beginning of an era. Federer’s combination of elegance, precision, and power captivated fans and pundits alike. Unlike many modern players, who relied on baseline attrition, Federer embraced an all-court style—attacking the net, slicing deftly, and striking winners with seemingly effortless grace.  \n",
      "\n",
      "The following years brought dominance rarely seen in tennis. Between **2004 and 2007**, Federer won 11 Grand Slam titles, including multiple Wimbledons, US Opens, and Australian Opens. He held the **world No. 1 ranking** for a record 237 consecutive weeks (2004–2008). During this period, Federer’s superiority was nearly absolute: he won tournaments on every surface, crushed rivals with consistency, and developed an aura of invincibility.\n",
      "\n",
      "Federer announced his official retirement in September 2022, closing a career that spanned over two decades. His farewell was celebrated worldwide, with tributes pouring in from fans, athletes, and dignitaries. Federer left the sport with **20 Grand Slam titles**, 310 weeks as world No. 1, and countless records.  \n",
      "\n",
      "---\n",
      "\n",
      "## Legacy  \n",
      "\n",
      "Roger Federer’s legacy extends far beyond statistics. He redefined what it meant to be a champion: graceful under pressure, generous in victory and defeat, and committed to the growth of the sport. His rivalry with Nadal and Djokovic elevated men’s tennis to unprecedented popularity, inspiring a generation of players and fans.  \n",
      "\n",
      "Culturally, Federer became a global icon, admired not only for his achievements but for his humility and elegance. He was a frequent guest at prestigious events, a brand ambassador for luxury companies, and a figure who transcended sports.\n",
      "\n",
      "A renaissance came in **2017**, when Federer, then 35, returned from injury to win the Australian Open. In the final, he defeated Nadal in a five-set thriller, reigniting their rivalry. That season, he also won Wimbledon, capturing his 19th Grand Slam. The comeback was hailed as one of the most remarkable in sports history, demonstrating Federer’s adaptability, longevity, and enduring brilliance.  \n",
      "\n",
      "---\n",
      "\n",
      "## Playing Style and Influence  \n",
      "\n",
      "Federer’s game was defined by artistry and efficiency. His **forehand** was considered one of the greatest in history, a devastating weapon capable of dictating rallies. His **one-handed backhand**, though once seen as a weakness against heavy topspin, evolved into a weapon, particularly after his 2017 resurgence. Federer’s **serve**, though not the fastest, was exceptionally precise, often setting up easy points.\n",
      "Human: How many grand slam did Federer won?\u001b[0m\n",
      "\n",
      "\u001b[1m> Finished chain.\u001b[0m\n",
      "\n",
      "\u001b[1m> Finished chain.\u001b[0m\n",
      "\n",
      "\u001b[1m> Finished chain.\u001b[0m\n",
      "\n",
      "Answer: Roger Federer won a total of 20 Grand Slam titles.\n"
     ]
    }
   ],
   "source": [
    "# Let's investigate what gets sent behind the scenes\n",
    "\n",
    "from langchain_core.callbacks import StdOutCallbackHandler\n",
    "\n",
    "llm = ChatOpenAI(temperature=0.7, model_name=MODEL)\n",
    "\n",
    "memory = ConversationBufferMemory(memory_key='chat_history', return_messages=True)\n",
    "\n",
    "retriever = vectorstore.as_retriever()\n",
    "\n",
    "conversation_chain = ConversationalRetrievalChain.from_llm(llm=llm, retriever=retriever, memory=memory, callbacks=[StdOutCallbackHandler()])\n",
    "\n",
    "query = \"How many grand slam did Federer won?\"\n",
    "result = conversation_chain.invoke({\"question\": query})\n",
    "answer = result[\"answer\"]\n",
    "print(\"\\nAnswer:\", answer)"
   ]
  },
  {
   "cell_type": "code",
   "execution_count": 11,
   "id": "64e2a09e-cdbd-42ce-956c-7e2218d86eee",
   "metadata": {},
   "outputs": [],
   "source": [
    "def chat(question, history):\n",
    "    result = conversation_chain.invoke({\"question\": question})\n",
    "    return result[\"answer\"]"
   ]
  },
  {
   "cell_type": "code",
   "execution_count": null,
   "id": "37db3b09-a5b1-4bb1-88c5-c212d17afdff",
   "metadata": {},
   "outputs": [],
   "source": [
    "view = gr.ChatInterface(chat, type=\"messages\").launch(inbrowser=True)"
   ]
  }
 ],
 "metadata": {
  "kernelspec": {
   "display_name": "Python 3 (ipykernel)",
   "language": "python",
   "name": "python3"
  },
  "language_info": {
   "codemirror_mode": {
    "name": "ipython",
    "version": 3
   },
   "file_extension": ".py",
   "mimetype": "text/x-python",
   "name": "python",
   "nbconvert_exporter": "python",
   "pygments_lexer": "ipython3",
   "version": "3.11.13"
  }
 },
 "nbformat": 4,
 "nbformat_minor": 5
}
